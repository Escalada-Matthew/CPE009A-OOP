{
  "nbformat": 4,
  "nbformat_minor": 0,
  "metadata": {
    "colab": {
      "provenance": [],
      "authorship_tag": "ABX9TyPBLAUGH7mjcO7vvPaoF+5Z",
      "include_colab_link": true
    },
    "kernelspec": {
      "name": "python3",
      "display_name": "Python 3"
    },
    "language_info": {
      "name": "python"
    }
  },
  "cells": [
    {
      "cell_type": "markdown",
      "metadata": {
        "id": "view-in-github",
        "colab_type": "text"
      },
      "source": [
        "<a href=\"https://colab.research.google.com/github/Escalada-Matthew/CPE009A-OOP/blob/main/Demo_4.ipynb\" target=\"_parent\"><img src=\"https://colab.research.google.com/assets/colab-badge.svg\" alt=\"Open In Colab\"/></a>"
      ]
    },
    {
      "cell_type": "markdown",
      "source": [
        "# Bool()function\n"
      ],
      "metadata": {
        "id": "zfpUjZYNZtm7"
      }
    },
    {
      "cell_type": "code",
      "source": [
        "print (bool(True))\n",
        "print (bool(False))"
      ],
      "metadata": {
        "colab": {
          "base_uri": "https://localhost:8080/"
        },
        "id": "ObmhWJTFZyL5",
        "outputId": "fd7eb695-3135-4ac3-9c8f-01b72100daa7"
      },
      "execution_count": 8,
      "outputs": [
        {
          "output_type": "stream",
          "name": "stdout",
          "text": [
            "True\n",
            "False\n"
          ]
        }
      ]
    },
    {
      "cell_type": "markdown",
      "source": [
        "Functions can return a boolean\n"
      ],
      "metadata": {
        "id": "SHCzeRLHaZ4b"
      }
    },
    {
      "cell_type": "code",
      "source": [
        "def MyFunction():\n",
        "  return True\n",
        "print(MyFunction())"
      ],
      "metadata": {
        "colab": {
          "base_uri": "https://localhost:8080/"
        },
        "id": "WGmjumgxadmL",
        "outputId": "f38df373-3a4c-400c-bd2a-6fc24bb73e8e"
      },
      "execution_count": 12,
      "outputs": [
        {
          "output_type": "stream",
          "name": "stdout",
          "text": [
            "True\n"
          ]
        }
      ]
    },
    {
      "cell_type": "markdown",
      "source": [
        "You can execute code based on the Boolean answer of a function"
      ],
      "metadata": {
        "id": "PWVFKAgJa96I"
      }
    },
    {
      "cell_type": "code",
      "source": [
        "def MyFunction():\n",
        "  return True\n",
        "#if ^return^ is changed to False, It will print \"NO!\"\n",
        "\n",
        "if MyFunction():\n",
        "  print(\"YES!\")\n",
        "\n",
        "else:\n",
        "  print(\"NO!\")"
      ],
      "metadata": {
        "colab": {
          "base_uri": "https://localhost:8080/"
        },
        "id": "yplIAz5_bCS7",
        "outputId": "205f11e6-3e3a-427f-c4e4-9243bb7e33af"
      },
      "execution_count": 17,
      "outputs": [
        {
          "output_type": "stream",
          "name": "stdout",
          "text": [
            "YES!\n"
          ]
        }
      ]
    },
    {
      "cell_type": "markdown",
      "source": [
        "# Phyton Operators\n",
        "\n",
        "-Operators are used to perform operations on variables and values\n",
        "\n",
        "-In the example below, we use the + operator to add together two values:"
      ],
      "metadata": {
        "id": "9zz2K6bsdb98"
      }
    },
    {
      "cell_type": "code",
      "source": [
        "print(10+5)\n",
        "print(10-5)\n",
        "print(10*5)\n",
        "print(10/5)\n",
        "print(10%5) #remainder\n",
        "print(10//5) #Division\n",
        "print(10**5) #exponent"
      ],
      "metadata": {
        "colab": {
          "base_uri": "https://localhost:8080/"
        },
        "id": "APvl9nQ0drAM",
        "outputId": "d93cc8e3-3316-426c-911e-83fc8b32131b"
      },
      "execution_count": 22,
      "outputs": [
        {
          "output_type": "stream",
          "name": "stdout",
          "text": [
            "15\n",
            "5\n",
            "50\n",
            "2.0\n",
            "0\n",
            "2\n",
            "100000\n"
          ]
        }
      ]
    },
    {
      "cell_type": "markdown",
      "source": [
        "Phyton Bitwise Operators\n",
        "-Bitwise opeartor works on bits and performs bit-by-bit operation. Assume if a=60 and b=13, now in binary format they will be as follows:\n",
        "\n",
        "a=0011 1100, decimal 60\n",
        "b=0000 1101, decimal 13\n",
        "\n",
        "\n",
        "**& Binary AND**\n",
        "-Operator copies a bit to the result. if it exist in both operands\n",
        "\n",
        "**| Binary Or**\n",
        "-It copies a bit, if it exist in either operand\n",
        "\n",
        "**^ Binary XOR**\n",
        "-It copies the bit, if it is set in one operand but not both.\n",
        "**Binary Ones Complement**\n",
        "-It is unary and has the effect of 'flipping' bits\n",
        "\n",
        "**<< Binary Left Shift**\n",
        "-The left operand's value is moved left by the number of bits specified by the right operand.\n",
        "\n",
        "**>> BInary Right Shift**\n",
        "-The left operand's value is moved right by the number of bits specified by the right operand.\n",
        "\n",
        "\n",
        "\n"
      ],
      "metadata": {
        "id": "Le_vAWFvelxk"
      }
    },
    {
      "cell_type": "code",
      "source": [
        "a=60\n",
        "b=13\n",
        "\n",
        "print(a & b) #& Binary AND\n",
        "print(a | b) #| Binary OR\n",
        "print(a ^ b) #^ Binary XOR\n",
        "a<<2 #Binary Left Shift"
      ],
      "metadata": {
        "colab": {
          "base_uri": "https://localhost:8080/"
        },
        "id": "Boc7NwyZjYkk",
        "outputId": "0619f842-64b5-4f10-ccd4-576b9ac5fbae"
      },
      "execution_count": 24,
      "outputs": [
        {
          "output_type": "stream",
          "name": "stdout",
          "text": [
            "12\n",
            "61\n",
            "49\n"
          ]
        },
        {
          "output_type": "execute_result",
          "data": {
            "text/plain": [
              "240"
            ]
          },
          "metadata": {},
          "execution_count": 24
        }
      ]
    },
    {
      "cell_type": "markdown",
      "source": [
        "# Phyton Assignment Operators\n",
        "\n",
        "\n",
        "\n",
        "*   x += 3 Same as x = x + 3\n",
        "*   x -= 3 Same as x = x - 3   \n",
        "*   x *= 3 Same as x = x * 3\n",
        "*   x /= 3 Same as x = x / 3\n",
        "*   x %= 3 Same as x = x % 3\n",
        "\n",
        "\n"
      ],
      "metadata": {
        "id": "VdANoXXRkAha"
      }
    },
    {
      "cell_type": "code",
      "source": [
        "x=5\n",
        "x+=3\n",
        "\n",
        "print(x)\n"
      ],
      "metadata": {
        "colab": {
          "base_uri": "https://localhost:8080/"
        },
        "id": "GVtCUvwAkqOq",
        "outputId": "31f18c07-0552-4ab2-bbb9-fe8f46d89a4a"
      },
      "execution_count": 35,
      "outputs": [
        {
          "output_type": "stream",
          "name": "stdout",
          "text": [
            "8\n"
          ]
        }
      ]
    },
    {
      "cell_type": "markdown",
      "source": [
        "# Logical Operator\n",
        "\n",
        "**and Logical AND**\n",
        "-If both the operands are true then condition become true(example (a and b) is False)\n",
        "\n",
        "**or Logical OR**\n",
        "-If any of the two operands are non-zero then condition becomes true (example: (a or b) is True)\n",
        "\n",
        "**not Logical NOT**\n",
        "-Use to reverse the logical state of its operand (#~not)\n",
        "\n",
        "#Comparison Operator"
      ],
      "metadata": {
        "id": "Y7e5aDfPmqny"
      }
    },
    {
      "cell_type": "code",
      "source": [
        "y=60\n",
        "z=13\n",
        "\n",
        "print(y>z) #True\n",
        "print(z>y) #False\n",
        "print(y>z and z>y) #False\n",
        "print(y>z or z>y) #True\n",
        "print(not(y>z or z>y)) #~not (True=False)"
      ],
      "metadata": {
        "colab": {
          "base_uri": "https://localhost:8080/"
        },
        "id": "ZwTR_i5kmrdy",
        "outputId": "707d2af2-9a40-4725-ced2-bce254618415"
      },
      "execution_count": 38,
      "outputs": [
        {
          "output_type": "stream",
          "name": "stdout",
          "text": [
            "True\n",
            "False\n",
            "False\n",
            "True\n",
            "False\n"
          ]
        }
      ]
    },
    {
      "cell_type": "markdown",
      "source": [
        "# For Loop\n"
      ],
      "metadata": {
        "id": "j65CZWcqyOy-"
      }
    },
    {
      "cell_type": "code",
      "source": [
        "week = [\"Sunday\", \"Monday\", \"Tuesday\", \"Wednesday\", \"Thursday\", \"Friday\", \"Saturday\"]\n",
        "for x in week:\n",
        "  print(x)"
      ],
      "metadata": {
        "colab": {
          "base_uri": "https://localhost:8080/"
        },
        "id": "IoA1RZ57q4WB",
        "outputId": "c578f2a3-b35d-4c72-94c5-265b1acf95ea"
      },
      "execution_count": 101,
      "outputs": [
        {
          "output_type": "stream",
          "name": "stdout",
          "text": [
            "Sunday\n",
            "Monday\n",
            "Tuesday\n",
            "Wednesday\n",
            "Thursday\n",
            "Friday\n",
            "Saturday\n"
          ]
        }
      ]
    },
    {
      "cell_type": "code",
      "source": [
        "week = [\"Sunday\", \"Monday\", \"Tuesday\", \"Wednesday\", \"Thursday\", \"Friday\", \"Saturday\"]\n",
        "for x in week:\n",
        "  print(x)\n",
        "  if x==\"Thursday\":\n",
        "    break"
      ],
      "metadata": {
        "colab": {
          "base_uri": "https://localhost:8080/"
        },
        "id": "TBQw0MA_yVYe",
        "outputId": "3e240f77-1a62-463b-e195-2d9ef8960a07"
      },
      "execution_count": 102,
      "outputs": [
        {
          "output_type": "stream",
          "name": "stdout",
          "text": [
            "Sunday\n",
            "Monday\n",
            "Tuesday\n",
            "Wednesday\n",
            "Thursday\n"
          ]
        }
      ]
    },
    {
      "cell_type": "code",
      "source": [
        "week = [\"Sunday\", \"Monday\", \"Tuesday\", \"Wednesday\", \"Thursday\", \"Friday\", \"Saturday\"]\n",
        "for x in week:\n",
        "  if x==\"Thursday\":\n",
        "    print(x)\n",
        "  else:\n",
        "    continue"
      ],
      "metadata": {
        "colab": {
          "base_uri": "https://localhost:8080/"
        },
        "id": "Ta_HKCsuyd_m",
        "outputId": "f8e7debf-edfc-4271-809d-38bf63383c7c"
      },
      "execution_count": 103,
      "outputs": [
        {
          "output_type": "stream",
          "name": "stdout",
          "text": [
            "Thursday\n"
          ]
        }
      ]
    },
    {
      "cell_type": "code",
      "source": [
        "#Looping through a string\n",
        "for x in \"week\":\n",
        "  print(x)"
      ],
      "metadata": {
        "colab": {
          "base_uri": "https://localhost:8080/"
        },
        "id": "1Jux7ADJylSm",
        "outputId": "33013beb-4316-4c9c-9c4a-fc6944d77d88"
      },
      "execution_count": 106,
      "outputs": [
        {
          "output_type": "stream",
          "name": "stdout",
          "text": [
            "w\n",
            "e\n",
            "e\n",
            "k\n"
          ]
        }
      ]
    },
    {
      "cell_type": "markdown",
      "source": [
        "#The Range() Function\n",
        "\n",
        "\n",
        "*   To loop through a set of code a specified number of times, we can use the range()function.\n",
        "*   The range()function returns a sequence of numbers, starting from 0 by default and increments by 1 (by default), and ends at a specified number.\n",
        "\n",
        "\n"
      ],
      "metadata": {
        "id": "HzoqNw2syydE"
      }
    },
    {
      "cell_type": "code",
      "source": [
        "for x in range(6):\n",
        "  print(x)\n",
        "for x in range (2,6):\n",
        "  print(x)"
      ],
      "metadata": {
        "colab": {
          "base_uri": "https://localhost:8080/"
        },
        "id": "Xz8rzrXxzP_V",
        "outputId": "64706c8f-d4a9-4fe1-c377-9a678dab77a4"
      },
      "execution_count": 107,
      "outputs": [
        {
          "output_type": "stream",
          "name": "stdout",
          "text": [
            "0\n",
            "1\n",
            "2\n",
            "3\n",
            "4\n",
            "5\n",
            "2\n",
            "3\n",
            "4\n",
            "5\n"
          ]
        }
      ]
    },
    {
      "cell_type": "code",
      "source": [
        "#Nested Loops\n",
        "adjective=[\"red\", \"big\", \"tasty\"]\n",
        "fruits=[\"apple\", \"banana\", \"cherry\"]\n",
        "\n",
        "for x in adjective:\n",
        "  for y in fruits:\n",
        "    print(x,y)"
      ],
      "metadata": {
        "colab": {
          "base_uri": "https://localhost:8080/"
        },
        "id": "qGk5LCQ6zYuh",
        "outputId": "44064cbb-1240-49e0-9d8b-1e78a00b2cdd"
      },
      "execution_count": 108,
      "outputs": [
        {
          "output_type": "stream",
          "name": "stdout",
          "text": [
            "red apple\n",
            "red banana\n",
            "red cherry\n",
            "big apple\n",
            "big banana\n",
            "big cherry\n",
            "tasty apple\n",
            "tasty banana\n",
            "tasty cherry\n"
          ]
        }
      ]
    },
    {
      "cell_type": "code",
      "source": [
        "#While Loop\n",
        "i=1\n",
        "while i<6:\n",
        "  print(i)\n",
        "  i+=1 #i=i+1"
      ],
      "metadata": {
        "colab": {
          "base_uri": "https://localhost:8080/"
        },
        "id": "MIrnRlk5zz5v",
        "outputId": "783ea9bf-13c5-4e95-9414-7f95ec69a671"
      },
      "execution_count": 110,
      "outputs": [
        {
          "output_type": "stream",
          "name": "stdout",
          "text": [
            "1\n",
            "2\n",
            "3\n",
            "4\n",
            "5\n"
          ]
        }
      ]
    },
    {
      "cell_type": "code",
      "source": [
        "i=1\n",
        "while i<6:\n",
        "  print(i)\n",
        "  if i==3:\n",
        "    break\n",
        "  i+=1"
      ],
      "metadata": {
        "colab": {
          "base_uri": "https://localhost:8080/"
        },
        "id": "0PH26XYO0Bmm",
        "outputId": "12a80138-f31b-464b-a61c-4c8ef55e43fc"
      },
      "execution_count": 111,
      "outputs": [
        {
          "output_type": "stream",
          "name": "stdout",
          "text": [
            "1\n",
            "2\n",
            "3\n"
          ]
        }
      ]
    },
    {
      "cell_type": "code",
      "source": [
        "#Continous Statement"
      ],
      "metadata": {
        "id": "UNQsN1yX0KHc"
      },
      "execution_count": null,
      "outputs": []
    },
    {
      "cell_type": "code",
      "source": [
        "#Else Statement\n",
        "i=1\n",
        "while i<6:\n",
        "  print(i)\n",
        "  i+=1\n",
        "else:\n",
        "  print(\"i is no longer less than 6\")"
      ],
      "metadata": {
        "colab": {
          "base_uri": "https://localhost:8080/"
        },
        "id": "PPt45i5Q0Lys",
        "outputId": "1974bfc1-531e-4c9d-a9b4-af6ab3e06a59"
      },
      "execution_count": 114,
      "outputs": [
        {
          "output_type": "stream",
          "name": "stdout",
          "text": [
            "1\n",
            "2\n",
            "3\n",
            "4\n",
            "5\n",
            "i is no longer less than 6\n"
          ]
        }
      ]
    }
  ]
}