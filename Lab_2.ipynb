{
  "nbformat": 4,
  "nbformat_minor": 0,
  "metadata": {
    "colab": {
      "provenance": [],
      "include_colab_link": true
    },
    "kernelspec": {
      "name": "python3",
      "display_name": "Python 3"
    },
    "language_info": {
      "name": "python"
    }
  },
  "cells": [
    {
      "cell_type": "markdown",
      "metadata": {
        "id": "view-in-github",
        "colab_type": "text"
      },
      "source": [
        "<a href=\"https://colab.research.google.com/github/Escalada-Matthew/CPE009A-OOP/blob/main/Lab_2.ipynb\" target=\"_parent\"><img src=\"https://colab.research.google.com/assets/colab-badge.svg\" alt=\"Open In Colab\"/></a>"
      ]
    },
    {
      "cell_type": "markdown",
      "source": [
        "\n",
        "#Task 1\n",
        "Write the Python equivalent code of the following C code:\n",
        "int main(){\n",
        "float base = 0, height = 0, area = 0;\n",
        "printf(“Enter the base of the triangle: “);\n",
        "scanf(“%f”, &base);\n",
        "printf(“Enter the height of the triangle: “);\n",
        "scanf(“%f”, &height);\n",
        "area = (1/2)*base*height;\n",
        "print(“The area of the triangle is %f”, area);\n",
        "\n",
        "\n"
      ],
      "metadata": {
        "id": "edrDNt0FpKOe"
      }
    },
    {
      "cell_type": "code",
      "source": [
        "float(base, height, area)\n",
        "base= input(\"Enter the base of the triangle: \")\n",
        "height= input(\"Enter the height of the triangle: \")\n"
      ],
      "metadata": {
        "id": "JxzttSc4pQdR"
      },
      "execution_count": null,
      "outputs": []
    },
    {
      "cell_type": "markdown",
      "source": [
        "#Task 2\n",
        "Write a program that would convert Celsius to Fahrenheit given the formula: F = (C × 9/5) + 32"
      ],
      "metadata": {
        "id": "SYlBYQulpZUF"
      }
    },
    {
      "cell_type": "code",
      "source": [
        "cel= input(\"Please enter the celsius that you would like to be converted into Farenheit :\")\n",
        "far = (cel * float(1.8) ) +32\n",
        "print(float(far))"
      ],
      "metadata": {
        "id": "aZh5nVQYpiP7",
        "outputId": "04cd0382-89bc-4b9d-b685-23c0442984be",
        "colab": {
          "base_uri": "https://localhost:8080/",
          "height": 198
        }
      },
      "execution_count": null,
      "outputs": [
        {
          "name": "stdout",
          "output_type": "stream",
          "text": [
            "Please enter the celsius that you would like to be converted into Farenheit :5\n"
          ]
        },
        {
          "output_type": "error",
          "ename": "TypeError",
          "evalue": "can't multiply sequence by non-int of type 'float'",
          "traceback": [
            "\u001b[0;31m---------------------------------------------------------------------------\u001b[0m",
            "\u001b[0;31mTypeError\u001b[0m                                 Traceback (most recent call last)",
            "\u001b[0;32m<ipython-input-7-ea9b716b9680>\u001b[0m in \u001b[0;36m<cell line: 2>\u001b[0;34m()\u001b[0m\n\u001b[1;32m      1\u001b[0m \u001b[0mcel\u001b[0m\u001b[0;34m=\u001b[0m \u001b[0minput\u001b[0m\u001b[0;34m(\u001b[0m\u001b[0;34m\"Please enter the celsius that you would like to be converted into Farenheit :\"\u001b[0m\u001b[0;34m)\u001b[0m\u001b[0;34m\u001b[0m\u001b[0;34m\u001b[0m\u001b[0m\n\u001b[0;32m----> 2\u001b[0;31m \u001b[0mfar\u001b[0m \u001b[0;34m=\u001b[0m \u001b[0;34m(\u001b[0m\u001b[0mcel\u001b[0m \u001b[0;34m*\u001b[0m \u001b[0mfloat\u001b[0m\u001b[0;34m(\u001b[0m\u001b[0;36m1.8\u001b[0m\u001b[0;34m)\u001b[0m \u001b[0;34m)\u001b[0m \u001b[0;34m+\u001b[0m\u001b[0;36m32\u001b[0m\u001b[0;34m\u001b[0m\u001b[0;34m\u001b[0m\u001b[0m\n\u001b[0m\u001b[1;32m      3\u001b[0m \u001b[0mprint\u001b[0m\u001b[0;34m(\u001b[0m\u001b[0mfloat\u001b[0m\u001b[0;34m(\u001b[0m\u001b[0mfar\u001b[0m\u001b[0;34m)\u001b[0m\u001b[0;34m)\u001b[0m\u001b[0;34m\u001b[0m\u001b[0;34m\u001b[0m\u001b[0m\n",
            "\u001b[0;31mTypeError\u001b[0m: can't multiply sequence by non-int of type 'float'"
          ]
        }
      ]
    },
    {
      "cell_type": "markdown",
      "source": [
        "#Task 3\n",
        "Write a program that can determine the distance between two points given the coordinates using the\n",
        "formula:\n",
        "𝒅 = √(𝒙𝟐 − 𝒙𝟏)𝟐 + (𝒚𝟐 − 𝒚𝟏)𝟐\n",
        "Hint/Rule: No library or package is needed to implement this equation."
      ],
      "metadata": {
        "id": "rxBjO4m7piwN"
      }
    },
    {
      "cell_type": "code",
      "source": [
        "print (\"Enter the coordinates of the first(1st) point: \")\n",
        "x1= input(\"x value: \")\n",
        "y1= input(\"y value: \")\n",
        "\n",
        "print (\"Enter the coordinates of the second(2nd) point: \")\n",
        "x2= input(\"x value: \")\n",
        "y2= input(\"y value: \")\n",
        "\n",
        "print (\"point 1 is in (\",  x1 , \",\", y1, \")\")\n",
        "print (\"point 2 is in (\",  x2 , \",\", y2, \")\")\n",
        "\n",
        "import math\n",
        "dis= math.sqrt(((x2 - x1)*2) + ((y2-y1)*2))\n",
        "print(dis)"
      ],
      "metadata": {
        "id": "FBCHLVz7tnc-",
        "outputId": "b663615a-6b4b-48e9-99c1-6b219e26b1a3",
        "colab": {
          "base_uri": "https://localhost:8080/",
          "height": 341
        }
      },
      "execution_count": null,
      "outputs": [
        {
          "output_type": "stream",
          "name": "stdout",
          "text": [
            "Enter the coordinates of the first(1st) point: \n",
            "x value: 4\n",
            "y value: 4\n",
            "Enter the coordinates of the second(2nd) point: \n",
            "x value: 5\n",
            "y value: 5\n",
            "point 1 is in ( 4 , 4 )\n",
            "point 2 is in ( 5 , 5 )\n"
          ]
        },
        {
          "output_type": "error",
          "ename": "TypeError",
          "evalue": "unsupported operand type(s) for -: 'str' and 'str'",
          "traceback": [
            "\u001b[0;31m---------------------------------------------------------------------------\u001b[0m",
            "\u001b[0;31mTypeError\u001b[0m                                 Traceback (most recent call last)",
            "\u001b[0;32m<ipython-input-17-195cc02a600a>\u001b[0m in \u001b[0;36m<cell line: 13>\u001b[0;34m()\u001b[0m\n\u001b[1;32m     11\u001b[0m \u001b[0;34m\u001b[0m\u001b[0m\n\u001b[1;32m     12\u001b[0m \u001b[0;32mimport\u001b[0m \u001b[0mmath\u001b[0m\u001b[0;34m\u001b[0m\u001b[0;34m\u001b[0m\u001b[0m\n\u001b[0;32m---> 13\u001b[0;31m \u001b[0mdis\u001b[0m\u001b[0;34m=\u001b[0m \u001b[0mmath\u001b[0m\u001b[0;34m.\u001b[0m\u001b[0msqrt\u001b[0m\u001b[0;34m(\u001b[0m\u001b[0;34m(\u001b[0m\u001b[0;34m(\u001b[0m\u001b[0mx2\u001b[0m \u001b[0;34m-\u001b[0m \u001b[0mx1\u001b[0m\u001b[0;34m)\u001b[0m\u001b[0;34m*\u001b[0m\u001b[0;36m2\u001b[0m\u001b[0;34m)\u001b[0m \u001b[0;34m+\u001b[0m \u001b[0;34m(\u001b[0m\u001b[0;34m(\u001b[0m\u001b[0my2\u001b[0m\u001b[0;34m-\u001b[0m\u001b[0my1\u001b[0m\u001b[0;34m)\u001b[0m\u001b[0;34m*\u001b[0m\u001b[0;36m2\u001b[0m\u001b[0;34m)\u001b[0m\u001b[0;34m)\u001b[0m\u001b[0;34m\u001b[0m\u001b[0;34m\u001b[0m\u001b[0m\n\u001b[0m\u001b[1;32m     14\u001b[0m \u001b[0mprint\u001b[0m\u001b[0;34m(\u001b[0m\u001b[0mdis\u001b[0m\u001b[0;34m)\u001b[0m\u001b[0;34m\u001b[0m\u001b[0;34m\u001b[0m\u001b[0m\n",
            "\u001b[0;31mTypeError\u001b[0m: unsupported operand type(s) for -: 'str' and 'str'"
          ]
        }
      ]
    }
  ]
}